{
 "cells": [
  {
   "cell_type": "code",
   "execution_count": 5,
   "metadata": {},
   "outputs": [],
   "source": [
    "import pandas as pd"
   ]
  },
  {
   "cell_type": "markdown",
   "metadata": {},
   "source": [
    "# Load data with PANDAS"
   ]
  },
  {
   "cell_type": "code",
   "execution_count": 6,
   "metadata": {},
   "outputs": [],
   "source": [
    "def load(path):\n",
    "    return pd.read_csv(path)\n",
    "\n",
    "TrainXpath=\"EmberXTrain.csv\"\n",
    "TrainYpath=\"EmberYTrain.csv\"\n",
    "#load data\n",
    "X=load(TrainXpath)\n",
    "Y=load(TrainYpath)"
   ]
  },
  {
   "cell_type": "markdown",
   "metadata": {},
   "source": [
    "# Pre-elaborate data with PANDAS"
   ]
  },
  {
   "cell_type": "code",
   "execution_count": 7,
   "metadata": {},
   "outputs": [
    {
     "name": "stdout",
     "output_type": "stream",
     "text": [
      "             hist_1        hist_2        hist_3        hist_4        hist_5  \\\n",
      "count  12000.000000  12000.000000  12000.000000  12000.000000  12000.000000   \n",
      "mean       0.194555      0.010743      0.007290      0.005916      0.007733   \n",
      "std        0.183536      0.012449      0.009822      0.007347      0.009031   \n",
      "min        0.000831      0.000001      0.000002      0.000000      0.000001   \n",
      "25%        0.056705      0.004653      0.003898      0.003521      0.004026   \n",
      "50%        0.147082      0.008297      0.005262      0.004718      0.005755   \n",
      "75%        0.249169      0.012158      0.006966      0.006069      0.008695   \n",
      "max        0.999864      0.404685      0.433230      0.188559      0.317366   \n",
      "\n",
      "             hist_6        hist_7        hist_8        hist_9       hist_10  \\\n",
      "count  12000.000000  12000.000000  12000.000000  12000.000000  12000.000000   \n",
      "mean       0.004597      0.004918      0.004028      0.006361      0.003279   \n",
      "std        0.006639      0.007278      0.005488      0.004630      0.002503   \n",
      "min        0.000000      0.000000      0.000000      0.000000      0.000000   \n",
      "25%        0.002850      0.002551      0.002352      0.003941      0.001791   \n",
      "50%        0.003859      0.003704      0.003517      0.005049      0.003014   \n",
      "75%        0.004962      0.004205      0.004770      0.007903      0.004051   \n",
      "max        0.168178      0.318891      0.241231      0.212900      0.111816   \n",
      "\n",
      "       ...  directories_2372  directories_2373  directories_2374  \\\n",
      "count  ...      1.200000e+04      1.200000e+04      1.200000e+04   \n",
      "mean   ...      2.707933e+05      4.218745e+05      1.769261e+05   \n",
      "std    ...      2.966166e+07      2.716920e+07      1.938101e+07   \n",
      "min    ...      0.000000e+00      0.000000e+00      0.000000e+00   \n",
      "25%    ...      0.000000e+00      0.000000e+00      0.000000e+00   \n",
      "50%    ...      0.000000e+00      0.000000e+00      0.000000e+00   \n",
      "75%    ...      6.400000e+01      7.430000e+03      0.000000e+00   \n",
      "max    ...      3.249272e+09      2.973805e+09      2.123083e+09   \n",
      "\n",
      "       directories_2375  directories_2376  directories_2377  directories_2378  \\\n",
      "count      1.200000e+04      12000.000000      1.200000e+04      1.200000e+04   \n",
      "mean       4.015666e+04        498.835333      7.214836e+05      3.143515e+05   \n",
      "std        4.396631e+06       1172.782050      3.587002e+07      3.443281e+07   \n",
      "min        0.000000e+00          0.000000      0.000000e+00      0.000000e+00   \n",
      "25%        0.000000e+00          0.000000      0.000000e+00      0.000000e+00   \n",
      "50%        0.000000e+00        208.000000      8.192000e+03      0.000000e+00   \n",
      "75%        0.000000e+00        688.000000      1.228800e+05      0.000000e+00   \n",
      "max        4.816268e+08      61280.000000      3.914422e+09      3.771926e+09   \n",
      "\n",
      "       directories_2379  directories_2380  directories_2381  \n",
      "count      1.200000e+04      1.200000e+04      1.200000e+04  \n",
      "mean       4.035190e+05      1.198995e+05      1.202337e+05  \n",
      "std        3.490789e+07      1.313310e+07      1.279684e+07  \n",
      "min        0.000000e+00      0.000000e+00      0.000000e+00  \n",
      "25%        0.000000e+00      0.000000e+00      0.000000e+00  \n",
      "50%        0.000000e+00      0.000000e+00      0.000000e+00  \n",
      "75%        0.000000e+00      0.000000e+00      0.000000e+00  \n",
      "max        3.823243e+09      1.438659e+09      1.401809e+09  \n",
      "\n",
      "[8 rows x 2381 columns]\n",
      "              Label\n",
      "count  12000.000000\n",
      "mean       0.498917\n",
      "std        0.500020\n",
      "min        0.000000\n",
      "25%        0.000000\n",
      "50%        0.000000\n",
      "75%        1.000000\n",
      "max        1.000000\n"
     ]
    }
   ],
   "source": [
    "def preElaborationData(dataframe):\n",
    "    return dataframe.describe()\n",
    "\n",
    "print(preElaborationData(X))\n",
    "print(preElaborationData(Y))"
   ]
  }
 ],
 "metadata": {
  "kernelspec": {
   "display_name": "Python 3",
   "language": "python",
   "name": "python3"
  },
  "language_info": {
   "codemirror_mode": {
    "name": "ipython",
    "version": 3
   },
   "file_extension": ".py",
   "mimetype": "text/x-python",
   "name": "python",
   "nbconvert_exporter": "python",
   "pygments_lexer": "ipython3",
   "version": "3.11.3"
  }
 },
 "nbformat": 4,
 "nbformat_minor": 2
}
