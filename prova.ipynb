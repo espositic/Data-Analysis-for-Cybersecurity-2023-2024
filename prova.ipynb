{
 "cells": [
  {
   "cell_type": "code",
   "execution_count": null,
   "metadata": {},
   "outputs": [
    {
     "ename": "",
     "evalue": "",
     "output_type": "error",
     "traceback": [
      "\u001b[1;31mRunning cells with '/usr/bin/python3' requires the ipykernel package.\n",
      "\u001b[1;31mRun the following command to install 'ipykernel' into the Python environment. \n",
      "\u001b[1;31mCommand: '/usr/bin/python3 -m pip install ipykernel -U --user --force-reinstall'"
     ]
    }
   ],
   "source": [
    "import funzioni as f\n",
    "import numpy as np\n",
    "\n",
    "\n",
    "TrainXpath=\"EmberXTrain.csv\"\n",
    "TrainYpath=\"EmberYTrain.csv\"\n",
    "print(\"Carico in memoria il file \"+TrainXpath)\n",
    "X=f.load(TrainXpath)\n",
    "print(\"Carico in memoria il file \"+TrainYpath)\n",
    "Y=f.load(TrainYpath)\n",
    "\n",
    "file_descrizione_x = 'descrizione_X.csv'\n",
    "file_descrizione_y = 'descrizione_Y.csv'\n",
    "print(\"Sto salvando le statistiche di ogni attributo del dataset X nel file \"+file_descrizione_x)   \n",
    "f.preElaborationData(X, file_descrizione_x)\n",
    "print(\"Sto salvando le statistiche di ogni attributo del dataset Y nel file \"+file_descrizione_y)   \n",
    "f.preElaborationData(Y, file_descrizione_y)\n",
    "\n",
    "print(\"Sto creando un boxplot per ciascun attributo elencato nella lista raggrupati per classe.\")  \n",
    "print(\"Le immagini vengono salvate sotto la cartella /boxplot.\")  \n",
    "#f.preBoxPlotAnalysisData(X, Y)\n",
    "\n",
    "file_mutual_info_rank=\"mutual_info_rank.csv\"\n",
    "seed=42\n",
    "np.random.seed(seed)\n",
    "print(\"Sto calcolando la mutualInfoClassif sulla lista delle variabili indipendenti.\")\n",
    "rank=f.mutualInfoRank(X,Y,seed,file_mutual_info_rank)"
   ]
  }
 ],
 "metadata": {
  "kernelspec": {
   "display_name": "Python 3",
   "language": "python",
   "name": "python3"
  },
  "language_info": {
   "name": "python",
   "version": "3.11.6"
  }
 },
 "nbformat": 4,
 "nbformat_minor": 2
}
